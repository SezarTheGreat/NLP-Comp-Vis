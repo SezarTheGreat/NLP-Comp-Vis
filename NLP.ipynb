{
  "nbformat": 4,
  "nbformat_minor": 0,
  "metadata": {
    "colab": {
      "provenance": [],
      "authorship_tag": "ABX9TyN3SvGt5tLJBygzIT9ttBBd",
      "include_colab_link": true
    },
    "kernelspec": {
      "name": "python3",
      "display_name": "Python 3"
    },
    "language_info": {
      "name": "python"
    }
  },
  "cells": [
    {
      "cell_type": "markdown",
      "metadata": {
        "id": "view-in-github",
        "colab_type": "text"
      },
      "source": [
        "<a href=\"https://colab.research.google.com/github/SezarTheGreat/NLP-Comp-Vis/blob/main/NLP.ipynb\" target=\"_parent\"><img src=\"https://colab.research.google.com/assets/colab-badge.svg\" alt=\"Open In Colab\"/></a>"
      ]
    },
    {
      "cell_type": "code",
      "execution_count": null,
      "metadata": {
        "colab": {
          "base_uri": "https://localhost:8080/"
        },
        "id": "96ZoRi4lbSQg",
        "outputId": "fc8c7f81-02e4-44f8-c87f-edab61f47b41"
      },
      "outputs": [
        {
          "output_type": "stream",
          "name": "stderr",
          "text": [
            "[nltk_data] Downloading package punkt_tab to /root/nltk_data...\n",
            "[nltk_data]   Package punkt_tab is already up-to-date!\n",
            "[nltk_data] Downloading package stopwords to /root/nltk_data...\n",
            "[nltk_data]   Package stopwords is already up-to-date!\n",
            "[nltk_data] Downloading package wordnet to /root/nltk_data...\n",
            "[nltk_data]   Package wordnet is already up-to-date!\n",
            "[nltk_data] Downloading package vader_lexicon to /root/nltk_data...\n",
            "[nltk_data]   Package vader_lexicon is already up-to-date!\n"
          ]
        },
        {
          "output_type": "execute_result",
          "data": {
            "text/plain": [
              "True"
            ]
          },
          "metadata": {},
          "execution_count": 25
        }
      ],
      "source": [
        "import nltk\n",
        "nltk.download(\"punkt_tab\")\n",
        "nltk.download(\"stopwords\")\n",
        "nltk.download(\"wordnet\")\n",
        "nltk.download(\"vader_lexicon\")"
      ]
    },
    {
      "cell_type": "code",
      "source": [
        "from nltk.tokenize import sent_tokenize, word_tokenize\n",
        "\n",
        "text = \"A.P.J. Abdul Kalam, often called the Missile Man of India, delivered numerous impactful speeches throughout his career as a scientist, leader, and former president. His speeches emphasized education, vision, and national development, inspiring millions. He frequently encouraged young people to dream big, work hard, and contribute to India's progress\"\n",
        "\n",
        "sentences = sent_tokenize(text)\n",
        "print(\"Sentences\",sentences)\n",
        "#print(\"Length of sentences token:\",len(sentences))\n",
        "for i in range(len(sentences)):\n",
        "    print(sentences[i])\n",
        "\n",
        "words = word_tokenize(text)\n",
        "#print(\"Words\",words)\n",
        "print(\"Length of word tokens: \",len(words))"
      ],
      "metadata": {
        "colab": {
          "base_uri": "https://localhost:8080/"
        },
        "id": "lllyPe1Hcq4K",
        "outputId": "c75628de-db1b-411e-e2b1-95633f6b0a01"
      },
      "execution_count": null,
      "outputs": [
        {
          "output_type": "stream",
          "name": "stdout",
          "text": [
            "Sentences ['A.P.J.', 'Abdul Kalam, often called the Missile Man of India, delivered numerous impactful speeches throughout his career as a scientist, leader, and former president.', 'His speeches emphasized education, vision, and national development, inspiring millions.', \"He frequently encouraged young people to dream big, work hard, and contribute to India's progress\"]\n",
            "A.P.J.\n",
            "Abdul Kalam, often called the Missile Man of India, delivered numerous impactful speeches throughout his career as a scientist, leader, and former president.\n",
            "His speeches emphasized education, vision, and national development, inspiring millions.\n",
            "He frequently encouraged young people to dream big, work hard, and contribute to India's progress\n",
            "Length of word tokens:  62\n"
          ]
        }
      ]
    },
    {
      "cell_type": "markdown",
      "source": [
        "Stopwords removal"
      ],
      "metadata": {
        "id": "_gbB_kxofre2"
      }
    },
    {
      "cell_type": "code",
      "source": [
        "from nltk.corpus import stopwords\n",
        "from nltk.tokenize import word_tokenize\n",
        "\n",
        "stop_words = set(stopwords.words(\"english\"))\n",
        "filtered_words = [word for word in words if not word in stop_words]\n",
        "\n",
        "print(\"Without stopwords\",filtered_words)\n",
        "print(\"Length of filtered words: \",len(filtered_words))"
      ],
      "metadata": {
        "colab": {
          "base_uri": "https://localhost:8080/"
        },
        "id": "8ldZkRP_fvN3",
        "outputId": "c7c8ca00-cc2d-4fc1-ffcf-bd4690f19e48"
      },
      "execution_count": null,
      "outputs": [
        {
          "output_type": "stream",
          "name": "stdout",
          "text": [
            "Without stopwords ['A.P.J', '.', 'Abdul', 'Kalam', ',', 'often', 'called', 'Missile', 'Man', 'India', ',', 'delivered', 'numerous', 'impactful', 'speeches', 'throughout', 'career', 'scientist', ',', 'leader', ',', 'former', 'president', '.', 'His', 'speeches', 'emphasized', 'education', ',', 'vision', ',', 'national', 'development', ',', 'inspiring', 'millions', '.', 'He', 'frequently', 'encouraged', 'young', 'people', 'dream', 'big', ',', 'work', 'hard', ',', 'contribute', 'India', \"'s\", 'progress']\n",
            "Length of filtered words:  52\n"
          ]
        }
      ]
    },
    {
      "cell_type": "code",
      "source": [
        "from string import punctuation\n",
        "stops = stopwords.words(\"english\")\n",
        "print(list(punctuation))\n",
        "print(stops)\n",
        "stop_words = list(punctuation) + stops"
      ],
      "metadata": {
        "colab": {
          "base_uri": "https://localhost:8080/"
        },
        "id": "NpSpEYJwgA02",
        "outputId": "b856cb1c-d895-48d2-f271-b238cba7ae0a"
      },
      "execution_count": null,
      "outputs": [
        {
          "output_type": "stream",
          "name": "stdout",
          "text": [
            "['!', '\"', '#', '$', '%', '&', \"'\", '(', ')', '*', '+', ',', '-', '.', '/', ':', ';', '<', '=', '>', '?', '@', '[', '\\\\', ']', '^', '_', '`', '{', '|', '}', '~']\n",
            "['a', 'about', 'above', 'after', 'again', 'against', 'ain', 'all', 'am', 'an', 'and', 'any', 'are', 'aren', \"aren't\", 'as', 'at', 'be', 'because', 'been', 'before', 'being', 'below', 'between', 'both', 'but', 'by', 'can', 'couldn', \"couldn't\", 'd', 'did', 'didn', \"didn't\", 'do', 'does', 'doesn', \"doesn't\", 'doing', 'don', \"don't\", 'down', 'during', 'each', 'few', 'for', 'from', 'further', 'had', 'hadn', \"hadn't\", 'has', 'hasn', \"hasn't\", 'have', 'haven', \"haven't\", 'having', 'he', \"he'd\", \"he'll\", 'her', 'here', 'hers', 'herself', \"he's\", 'him', 'himself', 'his', 'how', 'i', \"i'd\", 'if', \"i'll\", \"i'm\", 'in', 'into', 'is', 'isn', \"isn't\", 'it', \"it'd\", \"it'll\", \"it's\", 'its', 'itself', \"i've\", 'just', 'll', 'm', 'ma', 'me', 'mightn', \"mightn't\", 'more', 'most', 'mustn', \"mustn't\", 'my', 'myself', 'needn', \"needn't\", 'no', 'nor', 'not', 'now', 'o', 'of', 'off', 'on', 'once', 'only', 'or', 'other', 'our', 'ours', 'ourselves', 'out', 'over', 'own', 're', 's', 'same', 'shan', \"shan't\", 'she', \"she'd\", \"she'll\", \"she's\", 'should', 'shouldn', \"shouldn't\", \"should've\", 'so', 'some', 'such', 't', 'than', 'that', \"that'll\", 'the', 'their', 'theirs', 'them', 'themselves', 'then', 'there', 'these', 'they', \"they'd\", \"they'll\", \"they're\", \"they've\", 'this', 'those', 'through', 'to', 'too', 'under', 'until', 'up', 've', 'very', 'was', 'wasn', \"wasn't\", 'we', \"we'd\", \"we'll\", \"we're\", 'were', 'weren', \"weren't\", \"we've\", 'what', 'when', 'where', 'which', 'while', 'who', 'whom', 'why', 'will', 'with', 'won', \"won't\", 'wouldn', \"wouldn't\", 'y', 'you', \"you'd\", \"you'll\", 'your', \"you're\", 'yours', 'yourself', 'yourselves', \"you've\"]\n"
          ]
        }
      ]
    },
    {
      "cell_type": "code",
      "source": [
        "var_word = word_tokenize(text)\n",
        "for i in var_word:\n",
        "    if i not in stop_words:\n",
        "        print(i)"
      ],
      "metadata": {
        "colab": {
          "base_uri": "https://localhost:8080/"
        },
        "id": "dYWcJXTdhPnV",
        "outputId": "954edcff-3d42-4f55-a5ce-6711ff604333"
      },
      "execution_count": null,
      "outputs": [
        {
          "output_type": "stream",
          "name": "stdout",
          "text": [
            "A.P.J\n",
            "Abdul\n",
            "Kalam\n",
            "often\n",
            "called\n",
            "Missile\n",
            "Man\n",
            "India\n",
            "delivered\n",
            "numerous\n",
            "impactful\n",
            "speeches\n",
            "throughout\n",
            "career\n",
            "scientist\n",
            "leader\n",
            "former\n",
            "president\n",
            "His\n",
            "speeches\n",
            "emphasized\n",
            "education\n",
            "vision\n",
            "national\n",
            "development\n",
            "inspiring\n",
            "millions\n",
            "He\n",
            "frequently\n",
            "encouraged\n",
            "young\n",
            "people\n",
            "dream\n",
            "big\n",
            "work\n",
            "hard\n",
            "contribute\n",
            "India\n",
            "'s\n",
            "progress\n"
          ]
        }
      ]
    },
    {
      "cell_type": "markdown",
      "source": [
        "Stemming\n",
        "\n"
      ],
      "metadata": {
        "id": "jkUB5ypeixcy"
      }
    },
    {
      "cell_type": "code",
      "source": [
        "from nltk.stem import PorterStemmer\n",
        "stemmer = PorterStemmer()\n",
        "stemmed_words = [stemmer.stem(word) for word in filtered_words]\n",
        "print(\"Stemmed words: \",stemmed_words)\n",
        "print(\"Length of stemmed words: \",len(stemmed_words))"
      ],
      "metadata": {
        "colab": {
          "base_uri": "https://localhost:8080/"
        },
        "id": "EJh-HL7qi0bh",
        "outputId": "9c7b3ea0-00b2-4c48-bf71-1c4384222f5b"
      },
      "execution_count": null,
      "outputs": [
        {
          "output_type": "stream",
          "name": "stdout",
          "text": [
            "Stemmed words:  ['a.p.j', '.', 'abdul', 'kalam', ',', 'often', 'call', 'missil', 'man', 'india', ',', 'deliv', 'numer', 'impact', 'speech', 'throughout', 'career', 'scientist', ',', 'leader', ',', 'former', 'presid', '.', 'hi', 'speech', 'emphas', 'educ', ',', 'vision', ',', 'nation', 'develop', ',', 'inspir', 'million', '.', 'he', 'frequent', 'encourag', 'young', 'peopl', 'dream', 'big', ',', 'work', 'hard', ',', 'contribut', 'india', \"'s\", 'progress']\n",
            "Length of stemmed words:  52\n"
          ]
        }
      ]
    },
    {
      "cell_type": "code",
      "source": [
        "from nltk.stem import PorterStemmer, LancasterStemmer,RegexpStemmer,SnowballStemmer\n",
        "l = LancasterStemmer()\n",
        "r = RegexpStemmer(\"ing\")\n",
        "p = PorterStemmer()\n",
        "s = SnowballStemmer(\"english\")\n",
        "\n",
        "print(l.stem(\"changing\"))\n",
        "print(r.stem(\"changing\"))\n",
        "print(p.stem(\"changing\"))\n",
        "print(s.stem(\"changing\"))"
      ],
      "metadata": {
        "colab": {
          "base_uri": "https://localhost:8080/"
        },
        "id": "k3yO2-gvjhyV",
        "outputId": "28f0017e-7aa2-4e20-9cd8-3b005b7d7fe6"
      },
      "execution_count": null,
      "outputs": [
        {
          "output_type": "stream",
          "name": "stdout",
          "text": [
            "chang\n",
            "chang\n",
            "chang\n",
            "chang\n"
          ]
        }
      ]
    },
    {
      "cell_type": "code",
      "source": [
        "from nltk import word_tokenize, FreqDist\n",
        "token = word_tokenize(text.lower())\n",
        "fdist = FreqDist(token)\n",
        "fdist"
      ],
      "metadata": {
        "colab": {
          "base_uri": "https://localhost:8080/"
        },
        "id": "dMzc6NHHmKYF",
        "outputId": "f61a76d4-8270-4c2d-86c3-cf675e1456ce"
      },
      "execution_count": null,
      "outputs": [
        {
          "output_type": "execute_result",
          "data": {
            "text/plain": [
              "FreqDist({',': 9, '.': 3, 'and': 3, 'india': 2, 'speeches': 2, 'his': 2, 'to': 2, 'a.p.j': 1, 'abdul': 1, 'kalam': 1, ...})"
            ]
          },
          "metadata": {},
          "execution_count": 34
        }
      ]
    },
    {
      "cell_type": "code",
      "source": [
        "my = \"Amazon is a publicly traded company, meaning it is owned by its shareholders. While Jeff Bezos founded Amazon and remains its largest individual shareholder, he does not own the entire company. Other major shareholders include institutional investors like Vanguard Group, BlackRock, and State Street. \"\n",
        "my = word_tokenize(my)\n",
        "my\n",
        "\n",
        "from nltk.collocations import BigramCollocationFinder, TrigramCollocationFinder, ngrams\n",
        "b = BigramCollocationFinder.from_words(my)\n",
        "fre = b.ngram_fd.items()\n",
        "fre"
      ],
      "metadata": {
        "colab": {
          "base_uri": "https://localhost:8080/"
        },
        "id": "R8p1bB4EpAuy",
        "outputId": "eda89ce6-f886-4eab-964f-678e18f7a85e"
      },
      "execution_count": null,
      "outputs": [
        {
          "output_type": "execute_result",
          "data": {
            "text/plain": [
              "dict_items([(('Amazon', 'is'), 1), (('is', 'a'), 1), (('a', 'publicly'), 1), (('publicly', 'traded'), 1), (('traded', 'company'), 1), (('company', ','), 1), ((',', 'meaning'), 1), (('meaning', 'it'), 1), (('it', 'is'), 1), (('is', 'owned'), 1), (('owned', 'by'), 1), (('by', 'its'), 1), (('its', 'shareholders'), 1), (('shareholders', '.'), 1), (('.', 'While'), 1), (('While', 'Jeff'), 1), (('Jeff', 'Bezos'), 1), (('Bezos', 'founded'), 1), (('founded', 'Amazon'), 1), (('Amazon', 'and'), 1), (('and', 'remains'), 1), (('remains', 'its'), 1), (('its', 'largest'), 1), (('largest', 'individual'), 1), (('individual', 'shareholder'), 1), (('shareholder', ','), 1), ((',', 'he'), 1), (('he', 'does'), 1), (('does', 'not'), 1), (('not', 'own'), 1), (('own', 'the'), 1), (('the', 'entire'), 1), (('entire', 'company'), 1), (('company', '.'), 1), (('.', 'Other'), 1), (('Other', 'major'), 1), (('major', 'shareholders'), 1), (('shareholders', 'include'), 1), (('include', 'institutional'), 1), (('institutional', 'investors'), 1), (('investors', 'like'), 1), (('like', 'Vanguard'), 1), (('Vanguard', 'Group'), 1), (('Group', ','), 1), ((',', 'BlackRock'), 1), (('BlackRock', ','), 1), ((',', 'and'), 1), (('and', 'State'), 1), (('State', 'Street'), 1), (('Street', '.'), 1)])"
            ]
          },
          "metadata": {},
          "execution_count": 35
        }
      ]
    },
    {
      "cell_type": "code",
      "source": [
        "t = TrigramCollocationFinder.from_words(my)\n",
        "t.ngram_fd"
      ],
      "metadata": {
        "colab": {
          "base_uri": "https://localhost:8080/"
        },
        "id": "uzAuVXIjrO3y",
        "outputId": "dcbcfab7-cf76-43d3-8cd4-2ba9e3378c00"
      },
      "execution_count": null,
      "outputs": [
        {
          "output_type": "execute_result",
          "data": {
            "text/plain": [
              "FreqDist({('Amazon', 'is', 'a'): 1, ('is', 'a', 'publicly'): 1, ('a', 'publicly', 'traded'): 1, ('publicly', 'traded', 'company'): 1, ('traded', 'company', ','): 1, ('company', ',', 'meaning'): 1, (',', 'meaning', 'it'): 1, ('meaning', 'it', 'is'): 1, ('it', 'is', 'owned'): 1, ('is', 'owned', 'by'): 1, ...})"
            ]
          },
          "metadata": {},
          "execution_count": 38
        }
      ]
    },
    {
      "cell_type": "code",
      "source": [],
      "metadata": {
        "id": "qaPWl3ZPuE_B"
      },
      "execution_count": null,
      "outputs": []
    }
  ]
}